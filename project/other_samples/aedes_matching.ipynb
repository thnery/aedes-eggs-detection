{
 "cells": [
  {
   "cell_type": "code",
   "execution_count": 1,
   "metadata": {},
   "outputs": [
    {
     "name": "stdout",
     "output_type": "stream",
     "text": [
      "OpenCV Version: 4.1.0\n"
     ]
    }
   ],
   "source": [
    "import numpy as np\n",
    "import scipy as sp\n",
    "import scipy.signal\n",
    "import cv2 as cv\n",
    "\n",
    "from matplotlib import pyplot as plt\n",
    "\n",
    "%matplotlib inline\n",
    "\n",
    "plt.rcParams['figure.dpi'] = 150\n",
    "\n",
    "print(\"OpenCV Version: %s\" % cv.__version__)"
   ]
  },
  {
   "cell_type": "code",
   "execution_count": 2,
   "metadata": {},
   "outputs": [],
   "source": [
    "def find_matches(template, image):\n",
    "    matches = None\n",
    "    template_keypoints = None\n",
    "    template_desc = None\n",
    "    image_keypoints = None\n",
    "    image_desc = None\n",
    "    \n",
    "    orb = cv.ORB_create()\n",
    "    \n",
    "    template_keypoints, template_desc = orb.detectAndCompute(template, None)\n",
    "    image_keypoints, image_desc = orb.detectAndCompute(image, None)\n",
    "    \n",
    "    matcher = cv.BFMatcher(cv.NORM_HAMMING, crossCheck=True)\n",
    "    \n",
    "    matches = matcher.match(template_desc, image_desc)\n",
    "#     matches = sorted(matcher, key=lambda x: x.distance)\n",
    "    \n",
    "    return template_keypoints, image_keypoints, matches[:10]"
   ]
  },
  {
   "cell_type": "code",
   "execution_count": 3,
   "metadata": {},
   "outputs": [],
   "source": [
    "def draw_matches(template, template_keypoints, image, image_keypoints, matches):\n",
    "    channels_number = 1\n",
    "    \n",
    "    if len(template.shape) == 3:\n",
    "        channels_number = template.shape[2]\n",
    "        \n",
    "    margin = 10\n",
    "    joined_image = np.zeros((max(template.shape[0], image.shape[0]),\n",
    "                           template.shape[1] + image.shape[1] + margin, 3))\n",
    "    \n",
    "    if channels_number == 1:\n",
    "        for channel in range(3):\n",
    "            joined_image[:template.shape[0],\n",
    "                         :template.shape[1],\n",
    "                         channel] = template\n",
    "\n",
    "            joined_image[:image.shape[0],\n",
    "                         template.shape[1] + margin:,\n",
    "                         channel] = image    \n",
    "    else:\n",
    "        joined_image[:template.shape[0], :template.shape[1]] = template\n",
    "        joined_image[:image.shape[0], template.shape[1] + margin:] = image\n",
    "        \n",
    "    for match in matches:\n",
    "        template_point = (int(template_keypoints[match.queryIdx].pt[0]),\n",
    "                          int(template_keypoints[match.queryIdx].pt[1]))\n",
    "        image_point = (int(image_keypoints[match.trainIdx].pt[0] + template.shape[1] + margin),\n",
    "                       int(image_keypoints[match.trainIdx].pt[1]))\n",
    "        \n",
    "    cv.circle(joined_image, template_point, 5, (0, 0, 255), thickness = -1)\n",
    "    cv.circle(joined_image, image_point, 5, (0, 255, 0), thickness = -1)\n",
    "    cv.line(joined_image, template_point, image_point, (255, 0, 0), thickness = 3)\n",
    "    \n",
    "    return joined_image"
   ]
  },
  {
   "cell_type": "code",
   "execution_count": 5,
   "metadata": {},
   "outputs": [
    {
     "name": "stderr",
     "output_type": "stream",
     "text": [
      "Clipping input data to the valid range for imshow with RGB data ([0..1] for floats or [0..255] for integers).\n"
     ]
    },
    {
     "data": {
      "text/plain": [
       "<matplotlib.image.AxesImage at 0x1c23f81978>"
      ]
     },
     "execution_count": 5,
     "metadata": {},
     "output_type": "execute_result"
    },
    {
     "data": {
      "image/png": "[encoded data removed]",
      "text/plain": [
       "<Figure size 432x288 with 1 Axes>"
      ]
     },
     "metadata": {
      "needs_background": "light"
     },
     "output_type": "display_data"
    }
   ],
   "source": [
    "template = cv.imread('images/template.png', cv.IMREAD_GRAYSCALE)\n",
    "image = cv.imread('images/aedes2.jpg', cv.IMREAD_GRAYSCALE)\n",
    "\n",
    "# template = cv.medianBlur(template, 5)\n",
    "template = cv.Canny(template, 100, 260)\n",
    "\n",
    "image = cv.medianBlur(image, 1)\n",
    "image = cv.Canny(image, 100, 260)\n",
    "\n",
    "template_keypoints, image_keypoints, matches = find_matches(template, image)\n",
    "output = draw_matches(template, template_keypoints, image, image_keypoints, matches)\n",
    "\n",
    "# cv.imwrite('result/aedes_matches.jpg', output)\n",
    "plt.imshow(output)"
   ]
  },
  {
   "cell_type": "code",
   "execution_count": null,
   "metadata": {},
   "outputs": [],
   "source": []
  }
 ],
 "metadata": {
  "kernelspec": {
   "display_name": "Python 3",
   "language": "python",
   "name": "python3"
  },
  "language_info": {
   "codemirror_mode": {
    "name": "ipython",
    "version": 3
   },
   "file_extension": ".py",
   "mimetype": "text/x-python",
   "name": "python",
   "nbconvert_exporter": "python",
   "pygments_lexer": "ipython3",
   "version": "3.6.8"
  }
 },
 "nbformat": 4,
 "nbformat_minor": 2
}
